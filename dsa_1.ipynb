{
 "cells": [
  {
   "cell_type": "code",
   "execution_count": 1,
   "id": "fe0b8921-25f7-4f53-8dd4-859c5d993b8c",
   "metadata": {},
   "outputs": [
    {
     "name": "stdout",
     "output_type": "stream",
     "text": [
      "[1, 0]\n"
     ]
    }
   ],
   "source": [
    "### 1)\n",
    "def twoSum(nums, target):\n",
    "    hashmap = {}\n",
    "    for i, num in enumerate(nums):\n",
    "        complement = target - num\n",
    "        if complement in hashmap:\n",
    "            return [i, hashmap[complement]]\n",
    "        hashmap[num] = i\n",
    "    return []  # No pair found\n",
    "\n",
    "# Example usage\n",
    "nums = [2, 7, 11, 15]\n",
    "target = 9\n",
    "result = twoSum(nums, target)\n",
    "print(result)  # Output: [0, 1]\n"
   ]
  },
  {
   "cell_type": "code",
   "execution_count": 2,
   "id": "c2524062-5f2b-4c83-aeb8-7887c5680225",
   "metadata": {},
   "outputs": [
    {
     "name": "stdout",
     "output_type": "stream",
     "text": [
      "2\n",
      "[2, 2, 2, 3]\n"
     ]
    }
   ],
   "source": [
    "### 2)\n",
    "def removeElement(nums, val):\n",
    "    i = 0\n",
    "    for j in range(len(nums)):\n",
    "        if nums[j] != val:\n",
    "            nums[i] = nums[j]\n",
    "            i += 1\n",
    "    return i\n",
    "\n",
    "# Example usage\n",
    "nums = [3, 2, 2, 3]\n",
    "val = 3\n",
    "result = removeElement(nums, val)\n",
    "print(result)  # Output: 2\n",
    "print(nums)    # Output: [2, 2, _, _] (remaining elements are not important)\n"
   ]
  },
  {
   "cell_type": "code",
   "execution_count": 3,
   "id": "9ccb3385-eb7f-425c-bafd-d68f7e67bc66",
   "metadata": {},
   "outputs": [
    {
     "name": "stdout",
     "output_type": "stream",
     "text": [
      "2\n",
      "[2, 2, 2, 3]\n"
     ]
    }
   ],
   "source": [
    "### 7)\n",
    "def removeElement(nums, val):\n",
    "    i = 0\n",
    "    for j in range(len(nums)):\n",
    "        if nums[j] != val:\n",
    "            nums[i] = nums[j]\n",
    "            i += 1\n",
    "    return i\n",
    "\n",
    "# Example usage\n",
    "nums = [3, 2, 2, 3]\n",
    "val = 3\n",
    "result = removeElement(nums, val)\n",
    "print(result)  # Output: 2\n",
    "print(nums)    # Output: [2, 2, _, _] (remaining elements are not important)\n"
   ]
  },
  {
   "cell_type": "code",
   "execution_count": 4,
   "id": "c0d483df-028d-4a73-b5f0-5c815d0e3c32",
   "metadata": {},
   "outputs": [
    {
     "name": "stdout",
     "output_type": "stream",
     "text": [
      "True\n"
     ]
    }
   ],
   "source": [
    "### 6)\n",
    "def containsDuplicate(nums):\n",
    "    unique_nums = set()\n",
    "    for num in nums:\n",
    "        if num in unique_nums:\n",
    "            return True\n",
    "        unique_nums.add(num)\n",
    "    return False\n",
    "\n",
    "# Example usage\n",
    "nums = [1, 2, 3, 1]\n",
    "result = containsDuplicate(nums)\n",
    "print(result)  # Output: True\n"
   ]
  },
  {
   "cell_type": "code",
   "execution_count": null,
   "id": "7fefa43a-e36f-458f-acf7-a8ca91b2529e",
   "metadata": {},
   "outputs": [],
   "source": [
    "### 8)\n"
   ]
  }
 ],
 "metadata": {
  "kernelspec": {
   "display_name": "Python 3 (ipykernel)",
   "language": "python",
   "name": "python3"
  },
  "language_info": {
   "codemirror_mode": {
    "name": "ipython",
    "version": 3
   },
   "file_extension": ".py",
   "mimetype": "text/x-python",
   "name": "python",
   "nbconvert_exporter": "python",
   "pygments_lexer": "ipython3",
   "version": "3.10.8"
  }
 },
 "nbformat": 4,
 "nbformat_minor": 5
}
